{
 "cells": [
  {
   "cell_type": "code",
   "execution_count": 1,
   "metadata": {},
   "outputs": [],
   "source": [
    "import numpy as np\n",
    "import pandas as pd"
   ]
  },
  {
   "cell_type": "code",
   "execution_count": 2,
   "metadata": {},
   "outputs": [],
   "source": [
    "def make_val(msm, matrix, x, y): \n",
    "    similarity = score_down(msm, x, y)\n",
    "    \n",
    "    row = [(matrix[x][y-l]-gap_penalty(l)) for l in range(1, y+1)]\n",
    "    col = [(matrix[x-k][y]-gap_penalty(k)) for k in range(1, x+1)]\n",
    "    \n",
    "    up_score = max(col)\n",
    "    left_score = max(row)\n",
    "    diag_score = matrix[x - 1][y - 1] + similarity\n",
    "    pos_max_up = first_pos_max(col)    \n",
    "    pos_max_left = first_pos_max(row)                  \n",
    "    score =  max(0, diag_score, up_score, left_score)  \n",
    "    #print(score)\n",
    "    if score == diag_score: return score, [1, 'line']\n",
    "    elif score == up_score: return score, [pos_max_up + 1, 'UP']\n",
    "    elif score == left_score: return score, [pos_max_left + 1, 'LEFT'] \n",
    "    else: return score, [0, 'NULL']"
   ]
  },
  {
   "cell_type": "code",
   "execution_count": 3,
   "metadata": {},
   "outputs": [],
   "source": [
    "def back_prob(path_matrix, start_pos, score_matrix, index_max_score = 100):\n",
    "    x,y = start_pos\n",
    "    linded_seq_1, linded_seq_2 = [], []\n",
    "\n",
    "    i, j = len(seq_1), len(seq_2)\n",
    "    while x < i :\n",
    "        linded_seq_1 += seq_1[i-1].lower()\n",
    "        linded_seq_2 += '_'\n",
    "        i -= 1\n",
    "    while y < j:\n",
    "        linded_seq_1 += '_'\n",
    "        linded_seq_2 += seq_2[j-1].lower()\n",
    "        j -= 1\n",
    "    #print(aligned_seq_2)\n",
    "    while path_matrix[x][y] != [0, 'NULL'] :\n",
    "        d, direction = path_matrix[x][y][0], path_matrix[x][y][1]\n",
    "        if direction == 'line' :\n",
    "            linded_seq_1.append(seq_1[x - 1])     \n",
    "            linded_seq_2.append(seq_2[y - 1])\n",
    "            x -= 1\n",
    "            y -= 1\n",
    "        elif direction == 'LEFT' :\n",
    "            for c in range(d):\n",
    "                linded_seq_1.append('_')            \n",
    "                linded_seq_2.append(seq_2[y - 1])\n",
    "                y -= 1\n",
    "        elif direction == 'UP' : \n",
    "            for c in range(d):\n",
    "                linded_seq_1.append(seq_1[x - 1])\n",
    "                linded_seq_2.append('_')             \n",
    "                x -= 1\n",
    "    \n",
    "    while x > 0:\n",
    "        linded_seq_1 += seq_1[x-1].lower()\n",
    "        linded_seq_2 += '_'\n",
    "        x -= 1\n",
    "    while y > 0:\n",
    "        linded_seq_1 += '_'\n",
    "        linded_seq_2 += seq_2[y-1].lower()\n",
    "        y -= 1\n",
    "    \n",
    "    print('Выравнивание:')\n",
    "    print(seq_1_linded)\n",
    "    print(seq_2_linded)\n",
    "    return ''.join(reversed(linded_seq_1)), ''.join(reversed(linded_seq_2))"
   ]
  },
  {
   "cell_type": "code",
   "execution_count": null,
   "metadata": {},
   "outputs": [],
   "source": []
  },
  {
   "cell_type": "code",
   "execution_count": 4,
   "metadata": {},
   "outputs": [],
   "source": [
    "def score_down(match_score_matrix, x, y):\n",
    "    #print(x,y)    \n",
    "    return match_score_matrix[alphabet.index(seq_1[x-1])][alphabet.index(seq_2[y-1])]"
   ]
  },
  {
   "cell_type": "code",
   "execution_count": 5,
   "metadata": {},
   "outputs": [],
   "source": [
    "def first_pos_max(list1):\n",
    "    return [i for i, j in enumerate(list1) if j == max(list1)][0]"
   ]
  },
  {
   "cell_type": "code",
   "execution_count": 6,
   "metadata": {},
   "outputs": [],
   "source": [
    "def gap_penalty(k): \n",
    "    #pritn(k)\n",
    "    #print(r[:])\n",
    "    return gap"
   ]
  },
  {
   "cell_type": "code",
   "execution_count": null,
   "metadata": {},
   "outputs": [],
   "source": [
    " "
   ]
  },
  {
   "cell_type": "code",
   "execution_count": 7,
   "metadata": {},
   "outputs": [],
   "source": [
    "def get_values(seq_1, seq_2):\n",
    "    msm = np.zeros((len(alphabet), len(alphabet)))\n",
    "    for i in range(len(alphabet)):\n",
    "        for j in range(len(alphabet)):\n",
    "            if alphabet[i] == alphabet[j] :msm[i][j] = match\n",
    "            elif alphabet[i] != alphabet[j]:msm[i][j] = mismatch\n",
    "    rows = len(seq_1) + 1\n",
    "    cols = rows\n",
    "    dersm = np.zeros((rows, cols))\n",
    "    perm = [[[0 , 'NULL'] for col in range(cols)] for row in range(rows)]  \n",
    "    max_score, max_pos = 0, None\n",
    "    \n",
    "    \n",
    "    for i in range(1, rows): \n",
    "        for j in range(1, cols):\n",
    "            score, antecedent = make_val(msm, dersm, i, j)\n",
    "            if score > max_score:                  \n",
    "                max_score = score\n",
    "                max_pos   = (i, j)\n",
    "            dersm[i][j], perm[i][j] = score, antecedent\n",
    "\n",
    "        \n",
    "    return perm, max_pos, dersm\n"
   ]
  },
  {
   "cell_type": "code",
   "execution_count": 13,
   "metadata": {},
   "outputs": [
    {
     "data": {
      "text/plain": [
       "('___________________AGTTATGTCAG___gggacacgagcatgcagagac',\n",
       " 'aattgccgccgtcgtttgcAGTTATGTCAGatc_____________________')"
      ]
     },
     "execution_count": 13,
     "metadata": {},
     "output_type": "execute_result"
    }
   ],
   "source": [
    "seq_1 = 'AGTTATGTCAGGGGACACGAGCATGCAGAGAC' \n",
    "seq_2 = 'AATTGCCGCCGTCGTTTGCAGTTATGTCAGATC'\n",
    "\n",
    "match = 3\n",
    "mismatch = -1\n",
    "gap = 6\n",
    "alphabet = 'CAGT' \n",
    "\n",
    "\n",
    "p_m, start, dersm = get_values(seq_1, seq_2)\n",
    "back_prob(p_m, start, dersm)\n",
    "\n"
   ]
  },
  {
   "cell_type": "markdown",
   "metadata": {},
   "source": [
    " "
   ]
  },
  {
   "cell_type": "code",
   "execution_count": null,
   "metadata": {},
   "outputs": [],
   "source": []
  },
  {
   "cell_type": "code",
   "execution_count": null,
   "metadata": {},
   "outputs": [],
   "source": []
  }
 ],
 "metadata": {
  "kernelspec": {
   "display_name": "Python 3",
   "language": "python",
   "name": "python3"
  },
  "language_info": {
   "codemirror_mode": {
    "name": "ipython",
    "version": 3
   },
   "file_extension": ".py",
   "mimetype": "text/x-python",
   "name": "python",
   "nbconvert_exporter": "python",
   "pygments_lexer": "ipython3",
   "version": "3.7.9"
  }
 },
 "nbformat": 4,
 "nbformat_minor": 4
}
