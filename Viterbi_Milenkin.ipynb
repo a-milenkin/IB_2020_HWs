{
 "cells": [
  {
   "cell_type": "markdown",
   "metadata": {},
   "source": [
    "# Алгоритм Витерби"
   ]
  },
  {
   "cell_type": "code",
   "execution_count": 98,
   "metadata": {},
   "outputs": [],
   "source": [
    "import numpy as np\n",
    "import pandas as pd"
   ]
  },
  {
   "cell_type": "code",
   "execution_count": 100,
   "metadata": {},
   "outputs": [],
   "source": [
    "def Viterbi_algorithm(A, C, B, O):\n",
    "    N = len(O)   \n",
    "    \n",
    "    Y = A.shape[0]    \n",
    "    D = np.zeros((Y, N))\n",
    "    E = np.zeros((Y, N-1)).astype(np.int32)\n",
    "    D[:, 0] = np.multiply(C, B[:, 0])\n",
    "\n",
    "    for n in range(1, N):\n",
    "        for i in range(Y):\n",
    "            temp_product = np.multiply(A[:, i], D[:, n-1])\n",
    "            D[i, n] = np.max(temp_product) * B[i, O[n]]\n",
    "            E[i, n-1] = np.argmax(temp_product)\n",
    "\n",
    "    # Forward_Backward\n",
    "    S_opt = np.zeros(N).astype(np.int32)\n",
    "    S_opt[-1] = np.argmax(D[:, -1])\n",
    "    for n in range(N-2, 0, -1):\n",
    "        S_opt[n] = E[int(S_opt[n+1]), n]\n",
    "    return S_opt, D, E\n",
    " \n",
    "def print_all(A, C, B, seq):\n",
    "    O = np.array(seq.replace('О','0,').replace('Р', '1,').split(',')[:-1]).astype(np.int32)\n",
    "    # Apply Viterbi algorithm\n",
    "    S_opt, Forward_Backward, E = Viterbi_algorithm(A, C, B, O)\n",
    "    #\n",
    "    print('Открытые состояния:   O = ', O)\n",
    "    print('Наиболее вероятную последовательность\\n скрытых состояний: : ', S_opt)\n",
    "    np.set_printoptions(formatter={'float': \"{: 7.4f}\".format})\n",
    "    print('\\n Массив всех вероятностей скрытых состояний (Forward-Backward) :', Forward_Backward, sep='\\n')\n",
    "     \n",
    "     \n",
    "\n",
    "    \n",
    "\n",
    " "
   ]
  },
  {
   "cell_type": "markdown",
   "metadata": {},
   "source": [
    "# Test 1"
   ]
  },
  {
   "cell_type": "code",
   "execution_count": 101,
   "metadata": {},
   "outputs": [
    {
     "name": "stdout",
     "output_type": "stream",
     "text": [
      "Открытые состояния:   O =  [0 1 0 1 0 1 0 0 1 1 1 1 1 1 1 1 1 1 0 0 0 0 0 0 0 0]\n",
      "Наиболее вероятную последовательность\n",
      " скрытых состояний: :  [0 1 1 1 1 1 1 1 1 1 1 1 1 1 1 1 1 1 1 1 1 1 1 1 1 1]\n",
      "\n",
      " Массив всех вероятностей скрытых состояний (Forward-Backward) :\n",
      "[[ 0.2500  0.0200  0.0180  0.0014  0.0052  0.0004  0.0015  0.0006  0.0000\n",
      "   0.0000  0.0000  0.0000  0.0000  0.0000  0.0000  0.0000  0.0000  0.0000\n",
      "   0.0000  0.0000  0.0000  0.0000  0.0000  0.0000  0.0000  0.0000]\n",
      " [ 0.2500  0.1800  0.0720  0.0518  0.0207  0.0149  0.0060  0.0024  0.0017\n",
      "   0.0012  0.0009  0.0006  0.0005  0.0003  0.0002  0.0002  0.0001  0.0001\n",
      "   0.0000  0.0000  0.0000  0.0000  0.0000  0.0000  0.0000  0.0000]]\n"
     ]
    }
   ],
   "source": [
    "a11 = 0.8\n",
    "a12 = 0.2\n",
    "a22 = 0.8\n",
    "a21 = 0.2\n",
    "\n",
    "b1_O = 0.5\n",
    "b1_P = 0.5\n",
    "b2_О = 0.1\n",
    "b2_Р = 0.9\n",
    "\n",
    "pi_1 = 0.5\n",
    "pi_2 = 0.5\n",
    "\n",
    "seq ='ОРОРОРООРРРРРРРРРРОООООООО'\n",
    "\n",
    "A = np.array([[a11, a12], \n",
    "              [a21, a22]])\n",
    "\n",
    "PI = np.array([pi_1, pi_2])\n",
    "\n",
    "B = np.array([[b1_O, b2_О], \n",
    "              [b1_P, b2_Р]])\n",
    "\n",
    "print_all(A, PI, B, seq)"
   ]
  },
  {
   "cell_type": "markdown",
   "metadata": {},
   "source": [
    "# Test 2"
   ]
  },
  {
   "cell_type": "code",
   "execution_count": 102,
   "metadata": {},
   "outputs": [
    {
     "name": "stdout",
     "output_type": "stream",
     "text": [
      "Открытые состояния:   O =  [0 1 0 1 0 1 0 0 1 1 1 1 1 1 1 1 1 1 0 0 0 0 0 0 0 0]\n",
      "Наиболее вероятную последовательность\n",
      " скрытых состояний: :  [0 0 0 0 0 0 0 0 0 0 0 0 0 0 0 0 0 0 0 0 0 0 0 0 0 0]\n",
      "\n",
      " Массив всех вероятностей скрытых состояний (Forward-Backward) :\n",
      "[[ 0.2500  0.0638  0.0159  0.0041  0.0010  0.0003  0.0001  0.0000  0.0000\n",
      "   0.0000  0.0000  0.0000  0.0000  0.0000  0.0000  0.0000  0.0000  0.0000\n",
      "   0.0000  0.0000  0.0000  0.0000  0.0000  0.0000  0.0000  0.0000]\n",
      " [ 0.2500  0.0612  0.0159  0.0039  0.0010  0.0002  0.0001  0.0000  0.0000\n",
      "   0.0000  0.0000  0.0000  0.0000  0.0000  0.0000  0.0000  0.0000  0.0000\n",
      "   0.0000  0.0000  0.0000  0.0000  0.0000  0.0000  0.0000  0.0000]]\n"
     ]
    }
   ],
   "source": [
    "a11 = 0.5\n",
    "a12 = 0.5\n",
    "a22 = 0.5\n",
    "a21 = 0.5\n",
    "\n",
    "b1_O = 0.5\n",
    "b1_Р = 0.5\n",
    "b2_О = 0.51\n",
    "b2_Р = 0.49\n",
    "\n",
    "pi_1 = 0.5\n",
    "pi_2 = 0.5\n",
    "\n",
    "seq ='ОРОРОРООРРРРРРРРРРОООООООО'\n",
    "\n",
    "A = np.array([[a11, a12], \n",
    "              [a21, a22]])\n",
    "\n",
    "PI = np.array([pi_1, pi_2])\n",
    "\n",
    "B = np.array([[b1_O, b2_О], \n",
    "              [b1_P, b2_Р]])\n",
    "\n",
    "print_all(A, PI, B, seq)"
   ]
  },
  {
   "cell_type": "code",
   "execution_count": null,
   "metadata": {},
   "outputs": [],
   "source": []
  },
  {
   "cell_type": "code",
   "execution_count": null,
   "metadata": {},
   "outputs": [],
   "source": []
  },
  {
   "cell_type": "code",
   "execution_count": null,
   "metadata": {},
   "outputs": [],
   "source": []
  }
 ],
 "metadata": {
  "kernelspec": {
   "display_name": "Python 3",
   "language": "python",
   "name": "python3"
  },
  "language_info": {
   "codemirror_mode": {
    "name": "ipython",
    "version": 3
   },
   "file_extension": ".py",
   "mimetype": "text/x-python",
   "name": "python",
   "nbconvert_exporter": "python",
   "pygments_lexer": "ipython3",
   "version": "3.7.9"
  }
 },
 "nbformat": 4,
 "nbformat_minor": 4
}
