{
 "cells": [
  {
   "cell_type": "markdown",
   "metadata": {},
   "source": [
    "# Начнем с WPGMA"
   ]
  },
  {
   "cell_type": "code",
   "execution_count": 84,
   "metadata": {},
   "outputs": [],
   "source": [
    "import numpy as np\n",
    "\n",
    "tree_dist = {}    \n",
    "def MIN_UNIT(stracture, x = -1, y = -1, min_cell = float(\"inf\")):\n",
    "    for i in range(len(stracture)):\n",
    "        for j in range(len(stracture[i])):\n",
    "            if stracture[i][j] < min_cell:\n",
    "                min_cell = stracture[i][j]\n",
    "                x, y = i, j\n",
    "    return x, y, min_cell\n",
    "\n",
    "\n",
    "def join_stracture(stracture, a, b):\n",
    "    if b < a:\n",
    "        a, b = b, a\n",
    "    new_line = []\n",
    "    for i in range(a):\n",
    "        new_line.append((stracture[a][i] + stracture[b][i])/2)\n",
    "    stracture[a] = new_line\n",
    "    for i in range(a+1, b):\n",
    "        stracture[i][a] = (stracture[i][a]+stracture[b][i])/2\n",
    "    for i in range(b+1, len(stracture)):\n",
    "        stracture[i][a] = (stracture[i][a]+stracture[i][b])/2\n",
    "        del stracture[i][b]\n",
    "    del stracture[b]\n",
    "\n",
    "\n",
    "def joining_strings(labels, a, b, m_i_n, last_min):\n",
    "    if b < a:\n",
    "        a, b = b, a\n",
    "        #print('Меняем местами а и б')\n",
    "    \n",
    "    \n",
    "    if labels[a] not in tree_dist.keys():\n",
    "        tree_dist[labels[a]]=0\n",
    "        \n",
    "    if labels[b] not in tree_dist.keys():\n",
    "        tree_dist[labels[b]]=0    \n",
    "    \n",
    "    #print(last_min, ' ---->   ', m_i_n)\n",
    "    #print(labels[a], labels[b])\n",
    "    #print(tree_dist)\n",
    " \n",
    "    labels[a] = \"(\" + labels[a]+ ':' + str(m_i_n/2 - tree_dist[labels[a]]) + \",\" + labels[b]+':' +str(m_i_n/2 - tree_dist[labels[b]])+ \")\"\n",
    "    #print(labels[a])\n",
    "    \n",
    "    #print('Что вставляем?', m_i_n/2,'?')\n",
    "    tree_dist[labels[a]]=m_i_n/2\n",
    "    del labels[b]\n",
    "\n",
    "def WPGMA_algorithm(stracture, labels, last_min=0):\n",
    "     \n",
    "    while len(labels) > 1:\n",
    "        x, y, m_i_n= MIN_UNIT(stracture)\n",
    "        join_stracture(stracture, x, y)\n",
    "        joining_strings(labels, x, y, m_i_n, last_min)\n",
    "        last_min = m_i_n/2\n",
    "    return labels[0]\n",
    "\n",
    "\n",
    "def get_awesome_tree(start, end):\n",
    "    tree = []\n",
    " \n",
    "    for i in range(ord(start), ord(end)+1):\n",
    "        tree.append(chr(i))\n",
    "    return tree\n",
    " "
   ]
  },
  {
   "cell_type": "markdown",
   "metadata": {},
   "source": [
    "# Тест 1"
   ]
  },
  {
   "cell_type": "code",
   "execution_count": 85,
   "metadata": {},
   "outputs": [
    {
     "data": {
      "text/plain": [
       "'(K:7.25,(L:4.0,(M:2.0,N:2.0):2.0):3.25)'"
      ]
     },
     "execution_count": 85,
     "metadata": {},
     "output_type": "execute_result"
    }
   ],
   "source": [
    "M_labels = get_awesome_tree(\"K\", \"N\")   #A through G\n",
    "\n",
    "M = [#K L M N\n",
    "    [ ],                       #K\n",
    "    [16],                      #L\n",
    "    [16, 8],                   #M\n",
    "    [10, 8, 4],                #N\n",
    "    ]\n",
    "\n",
    "answer = WPGMA_algorithm(M, M_labels)  \n",
    "answer                \n",
    "#output '(K:7.25,(L:4.0,(M:2.0,N:2.0):2.0):3.25)'"
   ]
  },
  {
   "cell_type": "markdown",
   "metadata": {},
   "source": [
    "# Тест 2"
   ]
  },
  {
   "cell_type": "code",
   "execution_count": 86,
   "metadata": {},
   "outputs": [
    {
     "data": {
      "text/plain": [
       "'((((A:2.0,C:2.0):1.0,B:3.0):1.0,(D:2.5,E:2.5):1.5):0.625,F:4.625)'"
      ]
     },
     "execution_count": 86,
     "metadata": {},
     "output_type": "execute_result"
    }
   ],
   "source": [
    "M_labels = get_awesome_tree(\"A\", \"F\")   #A through G\n",
    "\n",
    "\n",
    "M =[#A B C D E F\n",
    "    [ ],                      # F\n",
    "    [5],                      # E\n",
    "    [4, 7],                   # D\n",
    "    [7, 10, 7],               # C\n",
    "    [6, 9,  6, 5],            # B\n",
    "    [8, 11, 8, 9, 9],         # A\n",
    "    ]\n",
    "\n",
    "answer = WPGMA_algorithm(M, M_labels)  \n",
    "answer           \n",
    "#output: '((((A:2.0,C:2.0):1.0,B:3.0):1.0,(D:2.5,E:2.5):1.5):0.625,F:4.625)'"
   ]
  },
  {
   "cell_type": "code",
   "execution_count": null,
   "metadata": {},
   "outputs": [],
   "source": []
  },
  {
   "cell_type": "code",
   "execution_count": null,
   "metadata": {},
   "outputs": [],
   "source": []
  },
  {
   "cell_type": "code",
   "execution_count": null,
   "metadata": {},
   "outputs": [],
   "source": []
  },
  {
   "cell_type": "markdown",
   "metadata": {},
   "source": [
    "# Далее реализуем UPGMA"
   ]
  },
  {
   "cell_type": "code",
   "execution_count": 87,
   "metadata": {},
   "outputs": [],
   "source": [
    "def UPGMA_algorithm(stracture, labels, last_min=0):\n",
    "    while len(labels) > 1:\n",
    "        x, y, m_i_n= MIN_UNIT(stracture)\n",
    "        join_stracture(labels, stracture, x, y)\n",
    "        joining_strings(labels, x, y, m_i_n, last_min)\n",
    "        last_min = m_i_n/2\n",
    "    return labels[0]\n",
    "\n",
    "tree_dist = {}    \n",
    "\n",
    "def MIN_UNIT(stracture, x= -1, y= -1, min_cell = float(\"inf\")):\n",
    "    for i in range(len(stracture)):\n",
    "        for j in range(len(stracture[i])):\n",
    "            if stracture[i][j] < min_cell:\n",
    "                min_cell = stracture[i][j]\n",
    "                x, y = i, j\n",
    "\n",
    "    return x, y, min_cell\n",
    "\n",
    "\n",
    "def join_stracture(labels, stracture, a, b):\n",
    "    if b < a:\n",
    "        a, b = b, a\n",
    "    new_line = []\n",
    "\n",
    "    for i in range(a):\n",
    "        k_a, k_b = len(labels[a].split('(')),len(labels[b].split('('))\n",
    "        new_line.append((stracture[a][i]*k_a + stracture[b][i]*k_b)/(k_a+k_b))\n",
    "    stracture[a] = new_line\n",
    "    \n",
    "    for i in range(a+1, b):\n",
    "        k_a, k_b = len(labels[a].split('(')), len(labels[b].split('('))\n",
    "        stracture[i][a] = (stracture[i][a]*k_a+stracture[b][i]*k_b)/(k_a+k_b)\n",
    "    for i in range(b+1, len(stracture)):\n",
    "        k_a, k_b = len(labels[a].split('(')),len(labels[b].split('('))\n",
    "        stracture[i][a] = (stracture[i][a]*k_a+stracture[i][b]*k_b)/(k_a+k_b)\n",
    "        del stracture[i][b]\n",
    "\n",
    "    del stracture[b]\n",
    "\n",
    "def joining_strings(labels, a, b, m_i_n, last_min):\n",
    "    if b < a:\n",
    "        a, b = b, a\n",
    "        \n",
    "        \n",
    "    if labels[a] not in tree_dist.keys():\n",
    "        tree_dist[labels[a]]=0\n",
    "        \n",
    "    if labels[b] not in tree_dist.keys():\n",
    "        tree_dist[labels[b]]=0            \n",
    "\n",
    " \n",
    "    labels[a] = \"(\" + labels[a]+ ':' + str(m_i_n/2 - tree_dist[labels[a]]) + \",\" + labels[b]+':' +str(m_i_n/2 - tree_dist[labels[b]])+ \")\"\n",
    "    \n",
    "    tree_dist[labels[a]]=m_i_n/2        \n",
    "        \n",
    "        \n",
    "     \n",
    "    del labels[b]\n",
    "\n",
    "def get_awesome_tree(start, end):\n",
    "    tree = []\n",
    "    for i in range(ord(start), ord(end)+1):\n",
    "        tree.append(chr(i))\n",
    "    return tree"
   ]
  },
  {
   "cell_type": "markdown",
   "metadata": {},
   "source": [
    "# Test 1"
   ]
  },
  {
   "cell_type": "code",
   "execution_count": 88,
   "metadata": {},
   "outputs": [
    {
     "data": {
      "text/plain": [
       "'(K:7.0,(L:4.0,(M:2.0,N:2.0):2.0):3.0)'"
      ]
     },
     "execution_count": 88,
     "metadata": {},
     "output_type": "execute_result"
    }
   ],
   "source": [
    "M_labels = get_awesome_tree(\"K\", \"N\")   \n",
    "\n",
    "\n",
    "M = [#K L M N\n",
    "    [ ],                       #K\n",
    "    [16],                      #L\n",
    "    [16, 8],                   #M\n",
    "    [10, 8, 4],                #N\n",
    "    ]\n",
    "\n",
    "answer = UPGMA_algorithm(M, M_labels)  \n",
    "answer"
   ]
  },
  {
   "cell_type": "markdown",
   "metadata": {},
   "source": [
    "# Test 2"
   ]
  },
  {
   "cell_type": "code",
   "execution_count": 89,
   "metadata": {},
   "outputs": [
    {
     "data": {
      "text/plain": [
       "'((((A:2.0,C:2.0):1.0,B:3.0):0.75,(D:2.5,E:2.5):1.25):0.75,F:4.5)'"
      ]
     },
     "execution_count": 89,
     "metadata": {},
     "output_type": "execute_result"
    }
   ],
   "source": [
    " M_labels = get_awesome_tree(\"A\", \"F\")   #A through G\n",
    "\n",
    "\n",
    "M =[#A B C D E F\n",
    "    [ ],                      # F\n",
    "    [5],                      # E\n",
    "    [4, 7],                   # D\n",
    "    [7, 10, 7],               # C\n",
    "    [6, 9,  6, 5],            # B\n",
    "    [8, 11, 8, 9, 9],         # A\n",
    "    ]\n",
    "\n",
    "answer = UPGMA_algorithm(M, M_labels)  \n",
    "answer           #output: '((((A:2.0,C:2.0):1.0,B:3.0):1.0,(D:2.5,E:2.5):1.5):0.625,F:4.625)'"
   ]
  },
  {
   "cell_type": "code",
   "execution_count": null,
   "metadata": {},
   "outputs": [],
   "source": []
  },
  {
   "cell_type": "code",
   "execution_count": 4,
   "metadata": {},
   "outputs": [],
   "source": [
    " "
   ]
  },
  {
   "cell_type": "markdown",
   "metadata": {},
   "source": [
    "# NJ"
   ]
  },
  {
   "cell_type": "code",
   "execution_count": 80,
   "metadata": {
    "scrolled": false
   },
   "outputs": [
    {
     "name": "stdout",
     "output_type": "stream",
     "text": [
      "Полученная структура:\n",
      "(F:5.0,(C:2.0,(B:4.0,A:1.0):1.0):1.0,(E:2.0,D:3.0):1.0)\n"
     ]
    }
   ],
   "source": [
    "import numpy as np\n",
    "\n",
    " \n",
    "letters = 'ABCDEFGHIJKLMNOPQRSTUVWXYZ'\n",
    "digits = '0123456789'\n",
    "node_dict = dict()\n",
    "\n",
    "def groups(L, N=3):\n",
    "    R = list(range(0, len(L), N))\n",
    "    return [L[i:i + N] for i in R]\n",
    "\n",
    "\n",
    "\n",
    "def load_data(fn, split_lines=False):\n",
    "    FH = open(fn, 'r')\n",
    "    data = FH.read().strip()\n",
    "    FH.close()\n",
    "    if split_lines:  return data.split('\\n')\n",
    "    return data\n",
    "\n",
    " \n",
    "\n",
    "def one_round(A, otus, count):\n",
    "    div = np.sum(A, axis=1)\n",
    "    n = A.shape[0] \n",
    "    if n == 2:\n",
    "        dist = A[1][0]\n",
    "        nD = node_dict[otus[0]]\n",
    "        nD['up'] = otus[1]\n",
    "        nD['d_up'] = dist\n",
    "        return None, otus\n",
    "    i, j = 0, 0\n",
    "    low_value = A[i][j]\n",
    "    for r, row in enumerate(A):\n",
    "        if r == 0:  continue\n",
    "        for c, col in enumerate(row):\n",
    "            if c >= r:  continue\n",
    "            dist = A[r][c]\n",
    "            first = div[c]\n",
    "            second = div[r]\n",
    "            correction = (first + second) / (n - 2)\n",
    "            value = dist - correction\n",
    "            if value < low_value:\n",
    "                i, j, low_value = r, c, value\n",
    "\n",
    " \n",
    "    new_name = digits[count]\n",
    " \n",
    "    dist = A[i][j]\n",
    "    diff = div[i] - div[j]\n",
    " \n",
    "    dist_i = dist / 2.0 + diff / (2 * (n - 2))\n",
    "    dist_j = dist - dist_i\n",
    " \n",
    "    node = {'L': otus[i], 'dL': dist_i,   \n",
    "            'R': otus[j],\n",
    "            'dR': dist_j}   \n",
    "    node_dict[new_name] = node\n",
    " \n",
    "    tL = list()\n",
    "    ij_dist = A[i][j]\n",
    "    for k in range(len(A[0])):\n",
    "        if k == i or k == j:  continue\n",
    " \n",
    "        dist = (A[i][k] + A[j][k] - ij_dist) / 2\n",
    " \n",
    "        tL.append(dist)\n",
    " \n",
    "    if i < j:  i, j = j, i\n",
    "    assert j < i\n",
    "    #print('i', i, 'j', j)\n",
    "    sel = list(range(n))\n",
    "    for k in [j, i]:  # Larger first\n",
    "        sel.remove(k)\n",
    "        #print('sel', sel)\n",
    "        A1 = A[sel, :]\n",
    "        A2 = A1[:, sel]\n",
    " \n",
    "    A = A2\n",
    " \n",
    "    otus = [new_name] + otus[:j] + otus[j + 1:i] + otus[i + 1:]\n",
    "    new_col = np.array(tL)\n",
    "    new_col.shape = (n - 2, 1)\n",
    "    A = np.hstack([new_col, A])\n",
    "\n",
    "    new_row = np.array([0] + tL)\n",
    "    new_row.shape = (1, n - 1)\n",
    "    A = np.vstack([new_row, A])\n",
    "    return A, otus\n",
    "\n",
    "\n",
    "def build_tree(filename, count = 0):\n",
    "    fn = filename\n",
    "    data = load_data(fn, split_lines=True)\n",
    "    N = len(data)\n",
    "    A = list()\n",
    "    for line in data:\n",
    "        A.append([float(n) for n in line.split()])\n",
    "    otus = list(letters[:N])\n",
    "    A = np.array(A)\n",
    "    A.shape = (N, N)\n",
    "\n",
    "    while True:\n",
    "        A, otus = one_round(A, otus, count)\n",
    "        if A is None:  break\n",
    "        count += 1\n",
    "\n",
    "    print(\"Полученная структура:\")\n",
    "    new_stracture = {}\n",
    "     \n",
    "    \n",
    "    for i,j in node_dict.items():\n",
    "        if j['L'] in list(letters) and j['R'] in list(letters):\n",
    "            new_stracture[i] = '('+j['L']+':'+ str(j['dL']) +','+j['R']+':'+ str(j['dR'])+')'\n",
    "            #print(i,'++',j)\n",
    "    \n",
    "    for i,j in node_dict.items():\n",
    "        if j['L'] in list(digits) and j['R'] in list(letters):\n",
    "            new_stracture[i] = '('+new_stracture[j['L']]+':'+ str(j['dL']) +','+j['R']+':'+ str(j['dR'])+')'\n",
    "            #print(i,'++',j)    \n",
    "            \n",
    "        elif j['L'] in list(letters) and j['R'] in list(digits):\n",
    "            new_stracture[i] = '('+j['L']+':'+ str(j['dL']) +','+new_stracture[j['R']]+':'+ str(j['dR'])+')'\n",
    "            #print(i,'++',j)\n",
    "            \n",
    "    for i,j in node_dict.items():\n",
    "        if j['L'] in list(digits) and j['R'] in list(digits):\n",
    "            #new_stracture[i] \n",
    "            answer= '('+j['up']+':'+str(j['d_up'])+','+new_stracture[j['L']]+':'+ str(j['dL']) +','+new_stracture[j['R']]+':'+ str(j['dR'])+')'\n",
    "            #print(i,'++',j)    \n",
    "    print(answer)\n",
    "    \n",
    "def build_tree_main(argv):\n",
    "    build_tree(argv)\n",
    "\n",
    "argv = 'test_data_4.txt'\n",
    "build_tree_main(argv)\n",
    "\n"
   ]
  },
  {
   "cell_type": "code",
   "execution_count": null,
   "metadata": {},
   "outputs": [],
   "source": [
    " "
   ]
  }
 ],
 "metadata": {
  "kernelspec": {
   "display_name": "Python 3",
   "language": "python",
   "name": "python3"
  },
  "language_info": {
   "codemirror_mode": {
    "name": "ipython",
    "version": 3
   },
   "file_extension": ".py",
   "mimetype": "text/x-python",
   "name": "python",
   "nbconvert_exporter": "python",
   "pygments_lexer": "ipython3",
   "version": "3.7.9"
  }
 },
 "nbformat": 4,
 "nbformat_minor": 4
}
