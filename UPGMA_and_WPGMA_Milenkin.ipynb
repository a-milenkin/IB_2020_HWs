{
 "cells": [
  {
   "cell_type": "markdown",
   "metadata": {},
   "source": [
    "# Начнем с WPGMA"
   ]
  },
  {
   "cell_type": "code",
   "execution_count": 1,
   "metadata": {},
   "outputs": [
    {
     "data": {
      "text/plain": [
       "'(K:7.25,(L:4.0,(M:2.0,N:2.0):2.0):3.25)'"
      ]
     },
     "execution_count": 1,
     "metadata": {},
     "output_type": "execute_result"
    }
   ],
   "source": [
    "import numpy as np\n",
    "\n",
    "    \n",
    "def MIN_UNIT(stracture, x = -1, y = -1, min_cell = float(\"inf\")):\n",
    "    for i in range(len(stracture)):\n",
    "        for j in range(len(stracture[i])):\n",
    "            if stracture[i][j] < min_cell:\n",
    "                min_cell = stracture[i][j]\n",
    "                x, y = i, j\n",
    "    return x, y, min_cell\n",
    "\n",
    "\n",
    "def join_stracture(stracture, a, b):\n",
    "    if b < a:\n",
    "        a, b = b, a\n",
    "    new_line = []\n",
    "    for i in range(a):\n",
    "        new_line.append((stracture[a][i] + stracture[b][i])/2)\n",
    "    stracture[a] = new_line\n",
    "    for i in range(a+1, b):\n",
    "        stracture[i][a] = (stracture[i][a]+stracture[b][i])/2\n",
    "    for i in range(b+1, len(stracture)):\n",
    "        stracture[i][a] = (stracture[i][a]+stracture[i][b])/2\n",
    "        del stracture[i][b]\n",
    "    del stracture[b]\n",
    "\n",
    "\n",
    "def joining_strings(labels, a, b, m_i_n, last_min):\n",
    "    if b < a:\n",
    "        a, b = b, a\n",
    "\n",
    "    labels[a] = \"(\" + labels[a]+ ':' +str(m_i_n/2) + \",\" + labels[b]+':' +str(m_i_n/2 - last_min)+ \")\"\n",
    "    del labels[b]\n",
    "\n",
    "def UPGMA_algorithm(stracture, labels, last_min=0):\n",
    "    while len(labels) > 1:\n",
    "        x, y, m_i_n= MIN_UNIT(stracture)\n",
    "        join_stracture(stracture, x, y)\n",
    "        joining_strings(labels, x, y, m_i_n, last_min)\n",
    "        last_min = m_i_n/2\n",
    "    return labels[0]\n",
    "\n",
    "\n",
    "def get_awesome_tree(start, end):\n",
    "    tree = []\n",
    "    for i in range(ord(start), ord(end)+1):\n",
    "        tree.append(chr(i))\n",
    "    return tree\n",
    " \n",
    "M_labels = get_awesome_tree(\"K\", \"N\")   #A through G\n",
    "\n",
    "M = [#K L M N\n",
    "    [ ],                       #K\n",
    "    [16],                      #L\n",
    "    [16, 8],                   #M\n",
    "    [10, 8, 4],                #N\n",
    "    ]\n",
    "\n",
    "answer = UPGMA_algorithm(M, M_labels) #should output: '((((A,D),((B,F),G)),C),E)'\n",
    "answer"
   ]
  },
  {
   "cell_type": "code",
   "execution_count": null,
   "metadata": {},
   "outputs": [],
   "source": []
  },
  {
   "cell_type": "markdown",
   "metadata": {},
   "source": [
    "# Далее реализуем UPGMA"
   ]
  },
  {
   "cell_type": "code",
   "execution_count": 2,
   "metadata": {},
   "outputs": [
    {
     "data": {
      "text/plain": [
       "'(K:7.0,(L:4.0,(M:2.0,N:2.0):2.0):3.0)'"
      ]
     },
     "execution_count": 2,
     "metadata": {},
     "output_type": "execute_result"
    }
   ],
   "source": [
    "\n",
    "def UPGMA_algorithm(stracture, labels, last_min=0):\n",
    "    while len(labels) > 1:\n",
    "        x, y, m_i_n= MIN_UNIT(stracture)\n",
    "        join_stracture(labels, stracture, x, y)\n",
    "        joining_strings(labels, x, y, m_i_n, last_min)\n",
    "        last_min = m_i_n/2\n",
    "    return labels[0]\n",
    "\n",
    "def MIN_UNIT(stracture, x= -1, y= -1, min_cell = float(\"inf\")):\n",
    "    for i in range(len(stracture)):\n",
    "        for j in range(len(stracture[i])):\n",
    "            if stracture[i][j] < min_cell:\n",
    "                min_cell = stracture[i][j]\n",
    "                x, y = i, j\n",
    "\n",
    "    return x, y, min_cell\n",
    "\n",
    "\n",
    "def join_stracture(labels, stracture, a, b):\n",
    "    if b < a:\n",
    "        a, b = b, a\n",
    "    new_line = []\n",
    "\n",
    "    for i in range(a):\n",
    "        k_a, k_b = len(labels[a].split('(')),len(labels[b].split('('))\n",
    "        new_line.append((stracture[a][i]*k_a + stracture[b][i]*k_b)/(k_a+k_b))\n",
    "    stracture[a] = new_line\n",
    "    \n",
    "    for i in range(a+1, b):\n",
    "        k_a, k_b = len(labels[a].split('(')), len(labels[b].split('('))\n",
    "        stracture[i][a] = (stracture[i][a]*k_a+stracture[b][i]*k_b)/(k_a+k_b)\n",
    "    for i in range(b+1, len(stracture)):\n",
    "        k_a, k_b = len(labels[a].split('(')),len(labels[b].split('('))\n",
    "        stracture[i][a] = (stracture[i][a]*k_a+stracture[i][b]*k_b)/(k_a+k_b)\n",
    "        del stracture[i][b]\n",
    "\n",
    "    del stracture[b]\n",
    "\n",
    "def joining_strings(labels, a, b, m_i_n, last_min):\n",
    "    if b < a:\n",
    "        a, b = b, a\n",
    "    labels[a] = \"(\" + labels[a]+ ':' +str(m_i_n/2) + \",\" + labels[b]+':' +str(m_i_n/2 - last_min)+ \")\"\n",
    "    del labels[b]\n",
    "\n",
    "def get_awesome_tree(start, end):\n",
    "    tree = []\n",
    "    for i in range(ord(start), ord(end)+1):\n",
    "        tree.append(chr(i))\n",
    "    return tree\n",
    "\n",
    "M_labels = get_awesome_tree(\"K\", \"N\")   \n",
    "\n",
    "\n",
    "M = [#K L M N\n",
    "    [ ],                       #K\n",
    "    [16],                      #L\n",
    "    [16, 8],                   #M\n",
    "    [10, 8, 4],                #N\n",
    "    ]\n",
    "\n",
    "answer = UPGMA_algorithm(M, M_labels)  \n",
    "answer"
   ]
  },
  {
   "cell_type": "markdown",
   "metadata": {},
   "source": [
    "# И напоследок NJ"
   ]
  },
  {
   "cell_type": "code",
   "execution_count": null,
   "metadata": {},
   "outputs": [],
   "source": []
  }
 ],
 "metadata": {
  "kernelspec": {
   "display_name": "Python 3",
   "language": "python",
   "name": "python3"
  },
  "language_info": {
   "codemirror_mode": {
    "name": "ipython",
    "version": 3
   },
   "file_extension": ".py",
   "mimetype": "text/x-python",
   "name": "python",
   "nbconvert_exporter": "python",
   "pygments_lexer": "ipython3",
   "version": "3.7.9"
  }
 },
 "nbformat": 4,
 "nbformat_minor": 4
}
