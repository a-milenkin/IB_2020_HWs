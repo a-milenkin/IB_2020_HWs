{
 "cells": [
  {
   "cell_type": "markdown",
   "metadata": {},
   "source": [
    "## Выведите формулу для коэффициентов при возведении в n-ую степень следующей матрицы:"
   ]
  },
  {
   "cell_type": "markdown",
   "metadata": {},
   "source": [
    "\\begin{equation*}\n",
    "PAM =\n",
    "\\begin{pmatrix}\n",
    "1-3a & a & a & a\\\\\n",
    "a & 1-3a & a & a\\\\\n",
    "a & a & 1-3a & a\\\\\n",
    "a & a & a & 1-3a\n",
    "\\end{pmatrix}\n",
    "\\end{equation*}\n",
    " "
   ]
  },
  {
   "cell_type": "markdown",
   "metadata": {},
   "source": [
    "Найдем собственные вектора для матрицы PAM"
   ]
  },
  {
   "cell_type": "markdown",
   "metadata": {},
   "source": [
    "$$ (A − \\lambda E) = 0  $$"
   ]
  },
  {
   "cell_type": "markdown",
   "metadata": {},
   "source": [
    "\\begin{equation*}\n",
    "\\begin{pmatrix}\n",
    "1-3a -\\lambda  & a & a & a\\\\\n",
    "a & 1-3a -\\lambda  & a & a\\\\\n",
    "a & a & 1-3a -\\lambda  & a\\\\\n",
    "a & a & a & 1-3a - \\lambda \n",
    "\\end{pmatrix}\n",
    "=0\n",
    "\\end{equation*}"
   ]
  },
  {
   "cell_type": "markdown",
   "metadata": {},
   "source": [
    "$$ (\\lambda − 1)(\\lambda + (4a − 1))^3 = 0 ⇒ \\lambda = 1, \\lambda = 1 − 4a $$"
   ]
  },
  {
   "cell_type": "markdown",
   "metadata": {},
   "source": [
    "$$\\lambda = 1   \\ \\rightarrow \\  (A − \\lambda E)v_1 = 0  $$\n",
    "\n",
    "\\begin{equation*}\n",
    "X =\n",
    "\\left\\{\n",
    "\\begin{array}{lr}\n",
    "x_1  = x_1 \\\\\n",
    "x_2 = x_1 \\\\\n",
    "x_3 = x_1  \\\\\n",
    "x_4 = x_1  \n",
    "\\end{array}\n",
    "\\right. \n",
    "\\rightarrow h_1 =\n",
    "\\begin{pmatrix}\n",
    "C \\\\\n",
    "C \\\\\n",
    "C \\\\\n",
    "C \n",
    "\\end{pmatrix}\n",
    "\\end{equation*}\n",
    "\n",
    " "
   ]
  },
  {
   "cell_type": "markdown",
   "metadata": {},
   "source": [
    "\n",
    "$$\\lambda = 1 - 4a   \\  \\rightarrow \\  (A − \\lambda E)v_2 = 0 $$\n",
    "\n",
    "\n",
    "\\begin{equation*}\n",
    "X =\n",
    "\\left\\{\n",
    "\\begin{array}{lr}\n",
    "x_1  = - x_2 - x_3 - x_4 \\\\\n",
    "x_2 = x_4 \\\\\n",
    "x_3 = x_4  \\\\\n",
    "x_4 = x_4  \n",
    "\\end{array}\n",
    "\\right.\n",
    "\\rightarrow h_2 =\n",
    "\\begin{pmatrix}\n",
    "-C \\\\\n",
    "C \\\\\n",
    "0 \\\\\n",
    "0 \n",
    "\\end{pmatrix}\n",
    "; \\ h_3 =\n",
    "\\begin{pmatrix}\n",
    "-C \\\\\n",
    "0 \\\\\n",
    "C \\\\\n",
    "0 \n",
    "\\end{pmatrix}\n",
    "; \\ h_4 =\n",
    "\\begin{pmatrix}\n",
    "-C \\\\\n",
    "0 \\\\\n",
    "0 \\\\\n",
    "C \n",
    "\\end{pmatrix}\n",
    "\\end{equation*}"
   ]
  },
  {
   "cell_type": "markdown",
   "metadata": {},
   "source": [
    " "
   ]
  },
  {
   "cell_type": "markdown",
   "metadata": {},
   "source": [
    " Пусть для определенность C = 1, тогда"
   ]
  },
  {
   "cell_type": "markdown",
   "metadata": {},
   "source": [
    "\\begin{equation*}\n",
    "\\rightarrow h_1 =\n",
    "\\begin{pmatrix}\n",
    "1 \\\\\n",
    "1 \\\\\n",
    "1 \\\\\n",
    "1 \n",
    "\\end{pmatrix}\n",
    "\\ h_2 =\n",
    "\\begin{pmatrix}\n",
    "-1 \\\\\n",
    "1 \\\\\n",
    "0 \\\\\n",
    "0 \n",
    "\\end{pmatrix}\n",
    "; \\ h_3 =\n",
    "\\begin{pmatrix}\n",
    "-1 \\\\\n",
    "0 \\\\\n",
    "1 \\\\\n",
    "0 \n",
    "\\end{pmatrix}\n",
    "; \\ h_4 =\n",
    "\\begin{pmatrix}\n",
    "-1 \\\\\n",
    "0 \\\\\n",
    "0 \\\\\n",
    "1 \n",
    "\\end{pmatrix}\n",
    "\\end{equation*}\n",
    " "
   ]
  },
  {
   "cell_type": "markdown",
   "metadata": {},
   "source": [
    " Из полученных собственных векторов составляем матрицу и находим ей обратную"
   ]
  },
  {
   "cell_type": "markdown",
   "metadata": {},
   "source": [
    "\\begin{equation*}\n",
    "S =\n",
    "\\begin{pmatrix}\n",
    "h_1 & h_2 & h_3 & h_4\\\\\n",
    "\\end{pmatrix}\n",
    "=\n",
    "\\begin{pmatrix}\n",
    "1 & -1 & -1 & -1\\\\\n",
    "1 & 1  & 0 & 0\\\\\n",
    "1 & 0 & 1  & 0\\\\\n",
    "1 & 0 & 0 & 1 \n",
    "\\end{pmatrix}\n",
    "; \\ S^{-1} = \\frac{1}{4}\n",
    "\\begin{pmatrix}\n",
    "1 & 1 &  1 &  1\\\\\n",
    "-1 & 3  & -1 & -1\\\\\n",
    "-1 & -1 & 3  & -1\\\\\n",
    "-1 & -1 & -1 & 3\n",
    "\\end{pmatrix}\n",
    "\\end{equation*}\n",
    " "
   ]
  },
  {
   "cell_type": "markdown",
   "metadata": {},
   "source": [
    "Теперь воспользуемся формулой из линейной алгебры"
   ]
  },
  {
   "cell_type": "markdown",
   "metadata": {},
   "source": [
    "$$ A^n = S^{-1}G^nS $$\n",
    "\n",
    "Под матрицей G мы подразумеваем диагональную матрицу из собственных значений матрицы PAM"
   ]
  },
  {
   "cell_type": "markdown",
   "metadata": {},
   "source": [
    "\\begin{equation*}\n",
    "G^n\n",
    "=\n",
    "\\begin{pmatrix}\n",
    "1 & 0 & 0 & 0\\\\\n",
    "0 & 1-4a & 0 & 0\\\\\n",
    "0 & 0 & 1-4a & 0\\\\\n",
    "0 & 0 & 0 & 1-4a\n",
    "\\end{pmatrix}\n",
    "^n\n",
    "=\n",
    "\\begin{pmatrix}\n",
    "1 & 0 & 0 & 0\\\\\n",
    "0 & (1-4a)^n & 0 & 0\\\\\n",
    "0 & 0 & (1-4a)^n & 0\\\\\n",
    "0 & 0 & 0 & (1-4a)^n\n",
    "\\end{pmatrix}\n",
    "\\end{equation*}\n",
    " "
   ]
  },
  {
   "cell_type": "markdown",
   "metadata": {},
   "source": [
    "Окончательно, перемножив все составляющие:"
   ]
  },
  {
   "cell_type": "markdown",
   "metadata": {},
   "source": [
    "\\begin{equation*}\n",
    "A^n = \\frac{1}{4}\n",
    "\\begin{pmatrix}\n",
    "1+3(1-4a)^n & -1+(1-4a)^n & -1+(1-4a)^n & -1+(1-4a)^n\\\\\n",
    "-1+(1-4a)^n & 1+3(1-4a)^n & 1-(1-4a)^n & 1-(1-4a)^n\\\\\n",
    "-1+(1-4a)^n & 1-(1-4a)^n & 1+3(1-4a)^n & 1-(1-4a)^n\\\\\n",
    "-1+(1-4a)^n & 1-(1-4a)^n & 1-(1-4a)^n & 1+3(1-4a)^n\n",
    "\\end{pmatrix}\n",
    "\\end{equation*}"
   ]
  },
  {
   "cell_type": "markdown",
   "metadata": {},
   "source": []
  },
  {
   "cell_type": "markdown",
   "metadata": {},
   "source": [
    "# С учетом поправок, получатеся все-таки так:"
   ]
  },
  {
   "cell_type": "markdown",
   "metadata": {},
   "source": [
    "$$ A^n = SG^nS^{-1} $$"
   ]
  },
  {
   "cell_type": "markdown",
   "metadata": {},
   "source": [
    " \\begin{equation*}\n",
    "A^n = \\frac{1}{4}\n",
    "\\begin{pmatrix}\n",
    "1+3(1-4a)^n & 1-(1-4a)^n & 1-(1-4a)^n & 1-(1-4a)^n\\\\\n",
    "1-(1-4a)^n & 1+3(1-4a)^n & 1-(1-4a)^n & 1-(1-4a)^n\\\\\n",
    "1-(1-4a)^n & 1 -(1-4a)^n & 1+3(1-4a)^n & 1-(1-4a)^n\\\\\n",
    "1-(1-4a)^n & 1-(1-4a)^n &  1-(1-4a)^n & 1+3(1-4a)^n\n",
    "\\end{pmatrix}\n",
    "\\end{equation*}"
   ]
  },
  {
   "cell_type": "code",
   "execution_count": null,
   "metadata": {},
   "outputs": [],
   "source": []
  }
 ],
 "metadata": {
  "kernelspec": {
   "display_name": "Python 3",
   "language": "python",
   "name": "python3"
  },
  "language_info": {
   "codemirror_mode": {
    "name": "ipython",
    "version": 3
   },
   "file_extension": ".py",
   "mimetype": "text/x-python",
   "name": "python",
   "nbconvert_exporter": "python",
   "pygments_lexer": "ipython3",
   "version": "3.7.9"
  }
 },
 "nbformat": 4,
 "nbformat_minor": 4
}
