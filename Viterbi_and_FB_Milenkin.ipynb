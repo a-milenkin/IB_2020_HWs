{
 "cells": [
  {
   "cell_type": "markdown",
   "metadata": {},
   "source": [
    "# Алгоритм Витерби"
   ]
  },
  {
   "cell_type": "code",
   "execution_count": 1,
   "metadata": {},
   "outputs": [],
   "source": [
    "import numpy as np\n",
    "import pandas as pd"
   ]
  },
  {
   "cell_type": "code",
   "execution_count": null,
   "metadata": {},
   "outputs": [],
   "source": []
  },
  {
   "cell_type": "code",
   "execution_count": 2,
   "metadata": {},
   "outputs": [],
   "source": [
    "def Viterbi_algorithm(A, C, B, O):\n",
    "    N = len(O)   \n",
    "    \n",
    "    Y = A.shape[0]    \n",
    "    D = np.zeros((Y, N))\n",
    "    E = np.zeros((Y, N-1)).astype(np.int32)\n",
    "    D[:, 0] = np.multiply(C, B[:, 0])\n",
    "\n",
    "    for n in range(1, N):\n",
    "        for i in range(Y):\n",
    "            temp_product = np.multiply(A[:, i], D[:, n-1])\n",
    "            D[i, n] = np.max(temp_product) * B[i, O[n]]\n",
    "            E[i, n-1] = np.argmax(temp_product)\n",
    "\n",
    "    # Forward_Backward\n",
    "    S_opt = np.zeros(N).astype(np.int32)\n",
    "    S_opt[-1] = np.argmax(D[:, -1])\n",
    "    for n in range(N-2, -1, -1): \n",
    "        S_opt[n] = E[int(S_opt[n+1]), n]\n",
    "    return S_opt, D, E\n",
    " \n",
    "def print_all(A, C, B, seq):\n",
    "    O = np.array(seq.replace('О','0,').replace('Р', '1,').split(',')[:-1]).astype(np.int32)\n",
    "    # Apply Viterbi algorithm\n",
    "    S_opt, Forward_Backward, E = Viterbi_algorithm(A, C, B, O)\n",
    "    #\n",
    "    print('Открытые состояния:   O = ', O)\n",
    "    print('Наиболее вероятную последовательность\\n скрытых состояний: : ', S_opt)\n",
    "    np.set_printoptions(formatter={'float': \"{: 7.4f}\".format})\n",
    "    print('\\n Массив всех вероятностей скрытых состояний (Forward-Backward) :', Forward_Backward, sep='\\n')\n",
    "     \n",
    "     \n",
    "\n",
    "    \n",
    "\n",
    " "
   ]
  },
  {
   "cell_type": "code",
   "execution_count": null,
   "metadata": {},
   "outputs": [],
   "source": []
  },
  {
   "cell_type": "code",
   "execution_count": null,
   "metadata": {},
   "outputs": [],
   "source": []
  },
  {
   "cell_type": "markdown",
   "metadata": {},
   "source": [
    "# Test 1"
   ]
  },
  {
   "cell_type": "code",
   "execution_count": 3,
   "metadata": {},
   "outputs": [
    {
     "name": "stdout",
     "output_type": "stream",
     "text": [
      "Открытые состояния:   O =  [0 1 0 1 0 1 0 0 1 1 1 1 1 1 1 1 1 1 0 0 0 0 0 0 0 0]\n",
      "Наиболее вероятную последовательность\n",
      " скрытых состояний: :  [0 0 0 0 0 0 0 0 1 1 1 1 1 1 1 1 1 1 0 0 0 0 0 0 0 0]\n",
      "\n",
      " Массив всех вероятностей скрытых состояний (Forward-Backward) :\n",
      "[[ 0.2500  0.1000  0.0400  0.0160  0.0064  0.0026  0.0010  0.0004  0.0002\n",
      "   0.0001  0.0000  0.0000  0.0000  0.0000  0.0000  0.0000  0.0000  0.0000\n",
      "   0.0000  0.0000  0.0000  0.0000  0.0000  0.0000  0.0000  0.0000]\n",
      " [ 0.0500  0.0450  0.0036  0.0072  0.0006  0.0012  0.0001  0.0000  0.0001\n",
      "   0.0001  0.0000  0.0000  0.0000  0.0000  0.0000  0.0000  0.0000  0.0000\n",
      "   0.0000  0.0000  0.0000  0.0000  0.0000  0.0000  0.0000  0.0000]]\n"
     ]
    }
   ],
   "source": [
    "a11 = 0.8\n",
    "a12 = 0.2\n",
    "a22 = 0.8\n",
    "a21 = 0.2\n",
    "\n",
    "b1_O = 0.5\n",
    "b1_P = 0.5\n",
    "b2_О = 0.1\n",
    "b2_Р = 0.9\n",
    "\n",
    "pi_1 = 0.5\n",
    "pi_2 = 0.5\n",
    "\n",
    "seq ='ОРОРОРООРРРРРРРРРРОООООООО'\n",
    "\n",
    "A1 = np.array([[a11, a12], \n",
    "              [a21, a22]])\n",
    "\n",
    "PI1 = np.array([pi_1, pi_2])\n",
    "\n",
    "B1 = np.array([[b1_O, b1_P], \n",
    "              [b2_О, b2_Р]])\n",
    "\n",
    "print_all(A1, PI1, B1, seq)"
   ]
  },
  {
   "cell_type": "markdown",
   "metadata": {},
   "source": [
    "# Test 2"
   ]
  },
  {
   "cell_type": "code",
   "execution_count": 4,
   "metadata": {},
   "outputs": [
    {
     "data": {
      "text/plain": [
       "26"
      ]
     },
     "execution_count": 4,
     "metadata": {},
     "output_type": "execute_result"
    }
   ],
   "source": [
    "len([0, 0, 0, 0, 0, 0, 0, 0, 1, 1, 1, 1, 1, 1, 1, 1, 1, 1, 0, 0, 0, 0, 0, 0, 0, 0])"
   ]
  },
  {
   "cell_type": "code",
   "execution_count": null,
   "metadata": {},
   "outputs": [],
   "source": [
    " "
   ]
  },
  {
   "cell_type": "code",
   "execution_count": 5,
   "metadata": {},
   "outputs": [
    {
     "name": "stdout",
     "output_type": "stream",
     "text": [
      "Открытые состояния:   O =  [0 1 0 1 0 1 0 0 1 1 1 1 1 1 1 1 1 1 0 0 0 0 0 0 0 0]\n",
      "Наиболее вероятную последовательность\n",
      " скрытых состояний: :  [1 0 1 0 1 0 1 1 0 0 0 0 0 0 0 0 0 0 1 1 1 1 1 1 1 1]\n",
      "\n",
      " Массив всех вероятностей скрытых состояний (Forward-Backward) :\n",
      "[[ 0.2500  0.0638  0.0159  0.0041  0.0010  0.0003  0.0001  0.0000  0.0000\n",
      "   0.0000  0.0000  0.0000  0.0000  0.0000  0.0000  0.0000  0.0000  0.0000\n",
      "   0.0000  0.0000  0.0000  0.0000  0.0000  0.0000  0.0000  0.0000]\n",
      " [ 0.2550  0.0625  0.0163  0.0040  0.0010  0.0003  0.0001  0.0000  0.0000\n",
      "   0.0000  0.0000  0.0000  0.0000  0.0000  0.0000  0.0000  0.0000  0.0000\n",
      "   0.0000  0.0000  0.0000  0.0000  0.0000  0.0000  0.0000  0.0000]]\n"
     ]
    }
   ],
   "source": [
    "a11 = 0.5\n",
    "a12 = 0.5\n",
    "a22 = 0.5\n",
    "a21 = 0.5\n",
    "\n",
    "b1_O = 0.5\n",
    "b1_Р = 0.5\n",
    "b2_О = 0.51\n",
    "b2_Р = 0.49\n",
    "\n",
    "pi_1 = 0.5\n",
    "pi_2 = 0.5\n",
    "\n",
    "seq ='ОРОРОРООРРРРРРРРРРОООООООО'\n",
    "\n",
    "A = np.array([[a11, a12], \n",
    "              [a21, a22]])\n",
    "\n",
    "PI = np.array([pi_1, pi_2])\n",
    "\n",
    "B = np.array([[b1_O, b1_P], \n",
    "              [b2_О, b2_Р]])\n",
    "\n",
    "print_all(A, PI, B, seq)"
   ]
  },
  {
   "cell_type": "code",
   "execution_count": null,
   "metadata": {},
   "outputs": [],
   "source": [
    " "
   ]
  },
  {
   "cell_type": "code",
   "execution_count": null,
   "metadata": {},
   "outputs": [],
   "source": []
  },
  {
   "cell_type": "markdown",
   "metadata": {},
   "source": [
    "# Алгоритм Forward-Backward"
   ]
  },
  {
   "cell_type": "markdown",
   "metadata": {},
   "source": [
    "# Test 1"
   ]
  },
  {
   "cell_type": "code",
   "execution_count": 6,
   "metadata": {},
   "outputs": [],
   "source": [
    "def Forward_Backward_algorithm(A, P,  B, seq):\n",
    "    O, MFR, now_MFR = np.array(seq.replace('О','0,').replace('Р', '1,').split(',')[:-1]).astype(np.int32),  [], []\n",
    "    for j in range(len(P)):\n",
    "        now_MFR.append(P[j]*B[j][O[0]])\n",
    "    MFR.append(now_MFR)\n",
    "    \n",
    "    for pit in range(1, len(O)):\n",
    "        now_MFR = []\n",
    "        for i in range(len(A)):\n",
    "            MFR_max = []\n",
    "            for j in range(len(A[i])):\n",
    "                MFR_max.append(MFR[pit - 1][j] * A[i][j] * B[i][O[pit]])\n",
    "            now_MFR.append(sum(MFR_max))\n",
    "        MFR.append(now_MFR)\n",
    "    massiv_MFR, massiv_MFR[-1]=[[0, 0]]*len(O),[1, 1]\n",
    "    \n",
    "    for pit in range(len(O)-2,-1,-1):\n",
    "        now_massiv_MFR = []\n",
    "        for i in range(len(A)):\n",
    "            massiv_MFR_sum = []\n",
    "            for j in range(len(A[i])):\n",
    "                massiv_MFR_sum.append(massiv_MFR[pit+1][j]*A[i][j]*B[j][O[pit+1]])\n",
    "            now_massiv_MFR.append(np.sum(massiv_MFR_sum))\n",
    "        massiv_MFR[pit] = now_massiv_MFR\n",
    "    #Идем в обход при вычисленных значениях\n",
    "    alpha_T, least = np.sum(MFR[-1]), []\n",
    "    \n",
    "    for i in range(len(MFR)):\n",
    "        ret = []\n",
    "        for j in range(len(MFR[i])):\n",
    "            ret.append((MFR[i][j] * massiv_MFR[i][j]) / alpha_T)\n",
    "        least.append(ret)\n",
    "    print(np.array(least).astype(np.float16))\n",
    "     "
   ]
  },
  {
   "cell_type": "code",
   "execution_count": 7,
   "metadata": {},
   "outputs": [
    {
     "name": "stdout",
     "output_type": "stream",
     "text": [
      "[[ 0.8594  0.1404]\n",
      " [ 0.7661  0.2339]\n",
      " [ 0.8784  0.1217]\n",
      " [ 0.7793  0.2206]\n",
      " [ 0.8867  0.1132]\n",
      " [ 0.7949  0.2048]\n",
      " [ 0.9106  0.0894]\n",
      " [ 0.8599  0.1400]\n",
      " [ 0.4570  0.5430]\n",
      " [ 0.2732  0.7271]\n",
      " [ 0.1898  0.8101]\n",
      " [ 0.1532  0.8467]\n",
      " [ 0.1394  0.8608]\n",
      " [ 0.1398  0.8604]\n",
      " [ 0.1543  0.8457]\n",
      " [ 0.1925  0.8076]\n",
      " [ 0.2791  0.7207]\n",
      " [ 0.4700  0.5298]\n",
      " [ 0.8887  0.1115]\n",
      " [ 0.9648  0.0354]\n",
      " [ 0.9785  0.0215]\n",
      " [ 0.9810  0.0191]\n",
      " [ 0.9814  0.0188]\n",
      " [ 0.9800  0.0198]\n",
      " [ 0.9746  0.0256]\n",
      " [ 0.9424  0.0578]]\n"
     ]
    }
   ],
   "source": [
    "Forward_Backward_algorithm(A1, PI1, B1, seq)"
   ]
  },
  {
   "cell_type": "markdown",
   "metadata": {},
   "source": [
    "# Test 2"
   ]
  },
  {
   "cell_type": "code",
   "execution_count": 8,
   "metadata": {},
   "outputs": [
    {
     "name": "stdout",
     "output_type": "stream",
     "text": [
      "[[ 0.4951  0.5049]\n",
      " [ 0.5049  0.4949]\n",
      " [ 0.4951  0.5049]\n",
      " [ 0.5049  0.4949]\n",
      " [ 0.4951  0.5049]\n",
      " [ 0.5049  0.4949]\n",
      " [ 0.4951  0.5049]\n",
      " [ 0.4951  0.5049]\n",
      " [ 0.5049  0.4949]\n",
      " [ 0.5049  0.4949]\n",
      " [ 0.5049  0.4949]\n",
      " [ 0.5049  0.4949]\n",
      " [ 0.5049  0.4949]\n",
      " [ 0.5049  0.4949]\n",
      " [ 0.5049  0.4949]\n",
      " [ 0.5049  0.4949]\n",
      " [ 0.5049  0.4949]\n",
      " [ 0.5049  0.4949]\n",
      " [ 0.4951  0.5049]\n",
      " [ 0.4951  0.5049]\n",
      " [ 0.4951  0.5049]\n",
      " [ 0.4951  0.5049]\n",
      " [ 0.4951  0.5049]\n",
      " [ 0.4951  0.5049]\n",
      " [ 0.4951  0.5049]\n",
      " [ 0.4951  0.5049]]\n"
     ]
    }
   ],
   "source": [
    "Forward_Backward_algorithm(A, PI, B, seq)"
   ]
  },
  {
   "cell_type": "code",
   "execution_count": null,
   "metadata": {},
   "outputs": [],
   "source": []
  },
  {
   "cell_type": "code",
   "execution_count": null,
   "metadata": {},
   "outputs": [],
   "source": []
  }
 ],
 "metadata": {
  "kernelspec": {
   "display_name": "Python 3",
   "language": "python",
   "name": "python3"
  },
  "language_info": {
   "codemirror_mode": {
    "name": "ipython",
    "version": 3
   },
   "file_extension": ".py",
   "mimetype": "text/x-python",
   "name": "python",
   "nbconvert_exporter": "python",
   "pygments_lexer": "ipython3",
   "version": "3.7.9"
  }
 },
 "nbformat": 4,
 "nbformat_minor": 4
}
