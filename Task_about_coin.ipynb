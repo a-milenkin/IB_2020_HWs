{
 "cells": [
  {
   "cell_type": "markdown",
   "metadata": {},
   "source": [
    "\n",
    "Для определения минимального значения n воспользуемся критирием согласия Комогорова\n",
    "\n",
    "$$K_{\\alpha=95\\%} = \\sqrt{n} * max(F_n-F)$$\n",
    "где F_n - эмпирическая функция распределения, F - предполагаемая функция распределения\n",
    "\n",
    "Использование критерия сводится к тому, чтобы накопить достаточно аргументов в пользу альтернативной гипотезы. \n",
    "\n",
    "Значит надо рассматривать парраллельно две проверки согласия c нудевыми гипотезами выпадения орла p=0.5 и p = 0.1\n",
    "\n",
    "Понятно, что в одном из двух случаев, мы отвергнем нулевую гипотезу, в этом случае максимальное max(F_n-F) = p_1 - p_2 = 0.4\n",
    "\n",
    "\n",
    "Тогда $$n = (\\frac{K_{95\\%}}{max(F_n-F)})^2$$\n",
    "где  $$K_{95\\%} = 1.36$$\n",
    "Окончательно $$n = [(\\frac{1.36}{0.4})^2] = 12$$ "
   ]
  },
  {
   "cell_type": "code",
   "execution_count": null,
   "metadata": {},
   "outputs": [],
   "source": []
  }
 ],
 "metadata": {
  "kernelspec": {
   "display_name": "Python 3",
   "language": "python",
   "name": "python3"
  },
  "language_info": {
   "codemirror_mode": {
    "name": "ipython",
    "version": 3
   },
   "file_extension": ".py",
   "mimetype": "text/x-python",
   "name": "python",
   "nbconvert_exporter": "python",
   "pygments_lexer": "ipython3",
   "version": "3.7.9"
  }
 },
 "nbformat": 4,
 "nbformat_minor": 4
}
