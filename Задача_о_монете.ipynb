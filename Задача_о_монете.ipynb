{
 "cells": [
  {
   "cell_type": "markdown",
   "metadata": {},
   "source": [
    "# Задача о монете"
   ]
  },
  {
   "cell_type": "markdown",
   "metadata": {},
   "source": [
    "Пусть состояние с правильно монетой это 0, а неправильной монетой это 1. \n",
    "\n",
    "Тогда по формуле Байеса для состояния 1 формула вероятности имеет вид:"
   ]
  },
  {
   "cell_type": "markdown",
   "metadata": {},
   "source": [
    "$$P(S_t=1|O_1...O_t)= \\frac{\\alpha_1(t)\\beta_1(t)}{\\sum_j\\alpha_j(t)}$$"
   ]
  },
  {
   "cell_type": "markdown",
   "metadata": {},
   "source": [
    "$$ \\text{где} \\ \\alpha_1(t) = \\sum_i\\alpha_i(t-1)a_{i,1}b_1(O_t) $$\n",
    "\n",
    "$$  \\text{учтем, что  }\\  \\alpha_{0,1}=0,\\ \\ \\alpha_{1,1}=1,\\ \\text{тогда сумма по состояниям имеет вид} $$\n",
    "\n",
    "$$ \\alpha_1(t) = \\alpha_1(t-1)a_{i,1}* b_1(O_t)$$\n",
    "\n",
    "$$ \\text{Теперь используя рекурентную формулу: } \\alpha(t-1) = \\alpha(t-2) *b_1(O_t)\\ \\text{получаем}$$\n",
    "\n",
    "$$ \\alpha_1(t) = \\alpha_1(1)*b_1^{t-1}(O_t)$$\n",
    "\n",
    "$$ \\text{Окончательно с учетом}\\ b_1(O_t) = 0.9, \\ \\alpha_1(1) =\\pi*b_1(O_1),\\ \\pi_1=0.5\\ \\text{получаем}$$\n",
    "\n",
    "$$ \\alpha_1(t) = 0.5*0.9^{t}$$\n",
    "\n",
    "\n",
    "$$\\text{Аналогично}\\ \\alpha_0(t) = 0.5*0.5^{t}$$\n",
    "\n",
    "$$\\text{Тогда с учетом}\\ \\beta_1(t)=1\\ \\text{начальная формула для вероятности принимает вид}$$\n",
    "\n",
    "$$P  = \\frac{\\alpha_1(t)\\beta_1(t)}{\\sum_j\\alpha_j(t)} =  \\frac{0.5 \\cdot 0.9^t }{0.5*0.9^t + 0.5*0.5^t}=\\frac{0.5 \\cdot 0.9^t }{0.5(0.9^t + 0.5^t)}= $$\n",
    "\n",
    "\n",
    "$$\\text{Если переписать в удобном виде, то}$$\n",
    "\n",
    "$$P  = \\frac{ 1}{1 + (0.5/0.9)^t} = \\frac{ 1}{1 + (5/9)^t}\\\\ $$\n",
    "\n",
    "\n",
    "$$\\text{Теперь подберем такое t, чтобы вероятность была P >= 0.95}$$"
   ]
  },
  {
   "cell_type": "code",
   "execution_count": 12,
   "metadata": {},
   "outputs": [
    {
     "name": "stdout",
     "output_type": "stream",
     "text": [
      "t = 0 P = 0.5\n",
      "t = 1 P = 0.6428571428571428\n",
      "t = 2 P = 0.7641509433962264\n",
      "t = 3 P = 0.8536299765807963\n",
      "t = 4 P = 0.9130253270247704\n",
      "t = 5 P = 0.9497378325344998\n",
      "t = 6 P = 0.9714385467201397\n",
      "t = 7 P = 0.9839285148569438\n",
      "t = 8 P = 0.9910071623620835\n",
      "t = 9 P = 0.9949839307806819\n"
     ]
    }
   ],
   "source": [
    "def P(t):\n",
    "    P = 1/(1+(5/9)**t)\n",
    "    return P  \n",
    "\n",
    "for i in range(10):\n",
    "    print('t =',i,'P =',P(i))"
   ]
  },
  {
   "cell_type": "markdown",
   "metadata": {},
   "source": [
    "Замечаем, что минимальным t, подходящим под условия задачи, оказалось t = 6. "
   ]
  },
  {
   "cell_type": "code",
   "execution_count": null,
   "metadata": {},
   "outputs": [],
   "source": []
  }
 ],
 "metadata": {
  "kernelspec": {
   "display_name": "Python 3",
   "language": "python",
   "name": "python3"
  },
  "language_info": {
   "codemirror_mode": {
    "name": "ipython",
    "version": 3
   },
   "file_extension": ".py",
   "mimetype": "text/x-python",
   "name": "python",
   "nbconvert_exporter": "python",
   "pygments_lexer": "ipython3",
   "version": "3.7.9"
  }
 },
 "nbformat": 4,
 "nbformat_minor": 4
}
