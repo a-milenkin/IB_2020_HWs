{
 "cells": [
  {
   "cell_type": "code",
   "execution_count": 7,
   "metadata": {},
   "outputs": [],
   "source": [
    "def print_result(nod_es, names, weights):\n",
    "    if names==['d']:\n",
    "        print(nod_es[0])\n",
    "        print(nod_es[1])\n",
    "    else:\n",
    "        nod_es[1].node_dist = weights[0][-1]\n",
    "        print(nod_es[0])\n",
    "        print(nod_es[1])    \n",
    "    \n",
    "def correction_vert_dist(weights, i, j):\n",
    "    node_dist_1 = 0.5 * (weights[i][j] + length(weights, i, j) - length(weights, j, i))\n",
    "    node_dist_2 = 0.5 * (weights[i][j] + length(weights, j, i) - length(weights, i, j))    \n",
    "    return node_dist_1, node_dist_2\n",
    "\n",
    "\n",
    "def length(WM, r_i, c_j):        \n",
    "    dist = 0\n",
    "    \n",
    "    for i in range(r_i):\n",
    "        if i != c_j:\n",
    "            dist += WM[i][r_i]\n",
    "    \n",
    "    for j in range(r_i + 1, len(WM)):\n",
    "        if j != c_j:\n",
    "            dist += WM[r_i][j]\n",
    " \n",
    "    return dist / (len(WM) - 2)\n",
    "            \n",
    "def localization(matrix):\n",
    " \n",
    "    dist1 = length(matrix, 0, 1)\n",
    "    dist2 = length(matrix, 1, 0)\n",
    "    min_neibr = matrix[0][1] - dist1 - dist2\n",
    "\n",
    "    i_now, j_now = 0, 1 \n",
    "    \n",
    "    for i in range(len(matrix)):\n",
    "        for j in range(i + 1, len(matrix)):\n",
    "            dist1 = length(matrix, i, j)\n",
    "            dist2 = length(matrix, j, i)\n",
    "            new_dist = matrix[i][j] - dist1 - dist2\n",
    "            \n",
    "            if new_dist < min_neibr:\n",
    "                i_now, j_now = i, j\n",
    "                min_neibr = new_dist\n",
    "    return i_now, j_now\n",
    "\n",
    "def generate_vertex(nodes):\n",
    "    res = [vertex(n) for n in nodes]\n",
    "    return res\n",
    "    \n",
    "def NJ_algorithm(weights, names):\n",
    "    nod_es = generate_vertex(names)\n",
    "    changes_nod = []\n",
    "    while len(weights) > 2:\n",
    "        i, j = localization(weights)\n",
    "        node_dist_1, node_dist_2 = correction_vert_dist(weights, i, j)\n",
    "        \n",
    "        names[i] = names[i] + names[j]\n",
    "        names.pop(j)\n",
    "        nod_es[i] = vertex(names[i], False, nod_es[i], nod_es[j], node_dist_1, node_dist_2)\n",
    "        nod_es.pop(j)\n",
    "        \n",
    "        D_a_b = weights[i][j]\n",
    "                \n",
    "        for k in range(i + 1, len(weights)):\n",
    "            if k != j:\n",
    "                temp_w = 0\n",
    "                if k < j: temp_w = weights[k][j]\n",
    "                else: temp_w = weights[j][k]\n",
    "                                \n",
    "                weights[i][k] = (weights[i][k] + temp_w - D_a_b) / 2\n",
    "        \n",
    " \n",
    "        for k in range(0, i):\n",
    "            weights[k][i] = (weights[k][i] + weights[k][j] - D_a_b) / 2\n",
    "        \n",
    "        for k in range(len(weights)):\n",
    "            weights[k].pop(j)\n",
    "        weights.pop(j)\n",
    "    \n",
    "        if names==['d']:\n",
    "            nod_es[0] = nod_es[1]\n",
    "            nod_es[2] = nod_es[0]\n",
    "    \n",
    "    print_result(nod_es, names, weights)\n",
    "\n",
    "class vertex:\n",
    "    tree = ''\n",
    "    final = 1\n",
    "    node_dist = 0\n",
    "    \n",
    "    def __str__(self):\n",
    "        if self.final: return self.tree + ':' + str(round(self.node_dist, 2))\n",
    "        else:\n",
    "            str_child_1, str_child_2 = str(self.child_nodes[0]), str(self.child_nodes[1])\n",
    "            if self.node_dist != 0: return ' ( ' + str_child_1 + ',' + str_child_2 + ' ) :' + str(round(self.node_dist, 2))\n",
    "            else: return ' ( ' + str_child_1 + ',' + str_child_2 + ' ) '\n",
    "    \n",
    "    def __init__(self, tree, final=True, child_node_1=None, child_node_2=None, node_dist_1=0, node_dist_2=0):\n",
    "         \n",
    "        self.tree = tree\n",
    "        self.final = final\n",
    "        \n",
    "        if not final:\n",
    "            child_node_1.node_dist = node_dist_1\n",
    "            child_node_2.node_dist = node_dist_2\n",
    "            self.child_nodes = [child_node_1, child_node_2]\n",
    "    \n",
    "  \n",
    "    \n",
    "def start_test(N, weights):\n",
    "    names_test = list(N)\n",
    "    NJ_algorithm(weights, names_test)"
   ]
  },
  {
   "cell_type": "markdown",
   "metadata": {},
   "source": [
    "# Test 1"
   ]
  },
  {
   "cell_type": "code",
   "execution_count": 8,
   "metadata": {},
   "outputs": [
    {
     "name": "stdout",
     "output_type": "stream",
     "text": [
      "A:0\n",
      " ( B:5.5, ( C:3.5,D:0.5 ) :0.5 ) :10.5\n"
     ]
    }
   ],
   "source": [
    "W =  [[0, 16, 16, 10],\n",
    "     [0,  0,  8,  8],\n",
    "     [0,  0,  0,  4],\n",
    "     [0,  0,  0,  0]] \n",
    "\n",
    "N = 'ABCD' \n",
    "\n",
    "\n",
    "start_test(N,W)"
   ]
  },
  {
   "cell_type": "markdown",
   "metadata": {},
   "source": [
    "# Test 2"
   ]
  },
  {
   "cell_type": "code",
   "execution_count": 9,
   "metadata": {},
   "outputs": [
    {
     "name": "stdout",
     "output_type": "stream",
     "text": [
      " (  (  (  ( A:1.0,B:4.0 ) :1.0,C:2.0 ) :1.5,E:2.5 ) :-0.5,D:3.5 ) \n",
      "F:5.5\n"
     ]
    }
   ],
   "source": [
    "W = [[0, 5, 4,  7, 6,  8],\n",
    "     [0, 0, 7, 10, 9, 11],\n",
    "     [0, 0, 0,  7, 6,  8],\n",
    "     [0, 0, 0,  0, 5,  9],\n",
    "     [0, 0, 0,  0, 0,  8],\n",
    "     [0, 0, 0,  0, 0,  0]]\n",
    "\n",
    "N = 'ABCDEF'\n",
    "start_test(N, W)"
   ]
  },
  {
   "cell_type": "code",
   "execution_count": null,
   "metadata": {},
   "outputs": [],
   "source": [
    " "
   ]
  },
  {
   "cell_type": "code",
   "execution_count": null,
   "metadata": {},
   "outputs": [],
   "source": [
    " "
   ]
  },
  {
   "cell_type": "code",
   "execution_count": null,
   "metadata": {},
   "outputs": [],
   "source": []
  },
  {
   "cell_type": "code",
   "execution_count": null,
   "metadata": {},
   "outputs": [],
   "source": []
  }
 ],
 "metadata": {
  "kernelspec": {
   "display_name": "Python 3",
   "language": "python",
   "name": "python3"
  },
  "language_info": {
   "codemirror_mode": {
    "name": "ipython",
    "version": 3
   },
   "file_extension": ".py",
   "mimetype": "text/x-python",
   "name": "python",
   "nbconvert_exporter": "python",
   "pygments_lexer": "ipython3",
   "version": "3.7.9"
  }
 },
 "nbformat": 4,
 "nbformat_minor": 4
}
