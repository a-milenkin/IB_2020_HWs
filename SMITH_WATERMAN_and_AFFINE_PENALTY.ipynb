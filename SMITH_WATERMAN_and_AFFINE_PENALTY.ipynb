{
 "cells": [
  {
   "cell_type": "code",
   "execution_count": 54,
   "metadata": {},
   "outputs": [],
   "source": [
    "def array_make(n,m):\n",
    "    ARRAY = [[0 for i in range(n + 1)] for i in range(m + 1)]\n",
    "    ARRAY[0] = [gap_penalty + i * gap_again_penalty for i in range(n + 1)]\n",
    "    for j in range(m + 1): ARRAY[j][0] = gap_penalty + j * gap_again_penalty\n",
    "    ARRAY[0][0] = 0\n",
    "    return ARRAY\n",
    "\n",
    "def get_seqs(seq_1, seq_2, n, m, M_main):\n",
    "    shift_i_now, shift_j_now = m+n, n+m\n",
    "    seq_new_1, seq_new_2 = '', ''\n",
    "    i_now, j_now = m, n\n",
    "    s_i_now, s_j_now = m+n, n+m\n",
    "    \n",
    "\n",
    "    while i_now > 0 or j_now > 0:\n",
    "        if M_main[i_now - 1][j_now - 1] >= M_main[i_now - 1][j_now] and M_main[i_now - 1][j_now - 1] >= M_main[i_now][j_now - 1]:\n",
    "            seq_new_1 = seq_1[j_now - 1] + seq_new_1\n",
    "            seq_new_2 = seq_2[i_now - 1] + seq_new_2\n",
    "            i_now, j_now = i_now - 1, j_now - 1\n",
    "        elif M_main[i_now][j_now - 1] > M_main[i_now - 1][j_now] and M_main[i_now][j_now - 1] > M_main[i_now - 1][j_now - 1]:\n",
    "            seq_new_1 = seq_1[j_now - 1] + seq_new_1\n",
    "            seq_new_2 = '_' + seq_new_2\n",
    "            j_now -= 1\n",
    "        elif M_main[i_now - 1][j_now] > M_main[i_now][j_now - 1] and M_main[i_now - 1][j_now] > M_main[i_now - 1][j_now - 1]:\n",
    "            seq_new_1 = '_' + seq_new_1\n",
    "            seq_new_2 = seq_2[i_now - 1] + seq_new_2\n",
    "            i_now -= 1\n",
    "    \n",
    "    return seq_new_1, seq_new_2\n",
    "\n",
    "def check_seq_is_match(a, b):\n",
    "    if a != b:return w_mismatch \n",
    "    else:return w_match\n",
    "\n",
    "def line_up_with_affine_gap(main_seq_1, main_seq_2):\n",
    "    n, m = len(main_seq_1), len(main_seq_2)\n",
    "    n_shift, m_shift = len(main_seq_1)+len(main_seq_2), len(main_seq_2)+len(main_seq_1)    \n",
    "    M_main, M_low, M_up = array_make(n, m), array_make(n, m), array_make(n, m)\n",
    "\n",
    "    # сделаем круг по каждой последовательности соответственно\n",
    "    for i in range(1, m + 1):  \n",
    "        for j in range(1, n + 1):       \n",
    "            s_1_up = M_up[i-1][j] + gap_again_penalty\n",
    "            s_2_up = M_main[i-1][j] + gap_penalty + gap_again_penalty\n",
    "            shift_s_2_up = M_main[i-1][j] + gap_penalty + gap_again_penalty + gap_again_penalty\n",
    "            \n",
    "            down_s_1 = M_low[i][j-1] + gap_again_penalty\n",
    "            s_2_down = M_main[i][j-1] + gap_penalty + gap_again_penalty\n",
    "            \n",
    "            M_up[i][j] = max(s_1_up, s_2_up)\n",
    "            M_low[i][j] = max(down_s_1, s_2_down)\n",
    "            \n",
    "            s_1 = M_main[i-1][j-1] + check_seq_is_match(main_seq_1[j - 1], main_seq_2[i - 1])\n",
    "            \n",
    "            M_main[i][j] = max(max(s_1,  M_up[i][j]), M_low[i][j])\n",
    " \n",
    "    seq_new_1, seq_new_2 = get_seqs(main_seq_1, main_seq_2, n,m, M_main)\n",
    "    print('Выравнивание')\n",
    "    print(seq_new_1)\n",
    "    print(seq_new_2)"
   ]
  },
  {
   "cell_type": "markdown",
   "metadata": {},
   "source": [
    "# Сравним два варианта штрафов за открытие и продолжение гэпа"
   ]
  },
  {
   "cell_type": "code",
   "execution_count": 55,
   "metadata": {},
   "outputs": [
    {
     "name": "stdout",
     "output_type": "stream",
     "text": [
      "Выравнивание\n",
      "_a_ctga___ggacg\n",
      "gagct_acta___c_\n"
     ]
    }
   ],
   "source": [
    "sequence_1 = 'actgaggacg'\n",
    "sequence_2 = 'gagctactac'\n",
    "\n",
    "\n",
    "w_match = 3\n",
    "w_mismatch = -3 \n",
    "gap_penalty = -1\n",
    "gap_again_penalty = -1 \n",
    "\n",
    "line_up_with_affine_gap(sequence1, sequence2)"
   ]
  },
  {
   "cell_type": "code",
   "execution_count": 56,
   "metadata": {},
   "outputs": [
    {
     "name": "stdout",
     "output_type": "stream",
     "text": [
      "Выравнивание\n",
      "actgaggacga_ctgaggacg\n",
      "g_________agct_actac_\n"
     ]
    }
   ],
   "source": [
    "w_match = 3\n",
    "w_mismatch = -4 \n",
    "gap_penalty = 1\n",
    "gap_again_penalty = -1 \n",
    "\n",
    "line_up_with_affine_gap(sequence1, sequence2)"
   ]
  },
  {
   "cell_type": "code",
   "execution_count": 3,
   "metadata": {},
   "outputs": [],
   "source": [
    "# a_ctgagggacg\n",
    "# agct_a_ctac_"
   ]
  }
 ],
 "metadata": {
  "kernelspec": {
   "display_name": "Python 3",
   "language": "python",
   "name": "python3"
  },
  "language_info": {
   "codemirror_mode": {
    "name": "ipython",
    "version": 3
   },
   "file_extension": ".py",
   "mimetype": "text/x-python",
   "name": "python",
   "nbconvert_exporter": "python",
   "pygments_lexer": "ipython3",
   "version": "3.7.9"
  }
 },
 "nbformat": 4,
 "nbformat_minor": 4
}
